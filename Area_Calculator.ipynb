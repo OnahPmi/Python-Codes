{
  "nbformat": 4,
  "nbformat_minor": 0,
  "metadata": {
    "colab": {
      "name": "Area Calculator.ipynb",
      "provenance": [],
      "authorship_tag": "ABX9TyP7DhPYVyvHDN7BED34S+/M",
      "include_colab_link": true
    },
    "kernelspec": {
      "name": "python3",
      "display_name": "Python 3"
    },
    "language_info": {
      "name": "python"
    }
  },
  "cells": [
    {
      "cell_type": "markdown",
      "metadata": {
        "id": "view-in-github",
        "colab_type": "text"
      },
      "source": [
        "<a href=\"https://colab.research.google.com/github/OnahPmi/Python-Codes/blob/main/Area_Calculator.ipynb\" target=\"_parent\"><img src=\"https://colab.research.google.com/assets/colab-badge.svg\" alt=\"Open In Colab\"/></a>"
      ]
    },
    {
      "cell_type": "code",
      "execution_count": null,
      "metadata": {
        "id": "0zcZyMay-v3k"
      },
      "outputs": [],
      "source": [
        "import math\n",
        "\n",
        "\n",
        "def area_function():\n",
        "    A = input(\"Which plane shape do you want to determine the area: \").lower()\n",
        "    Response1 = \"triangle\"\n",
        "    Response2 = \"square\"\n",
        "    Response3 = \"circle\"\n",
        "    Response5 = \"rectangle\"\n",
        "    Response4 = \"invalid entry\"\n",
        "    Unit = \" Square Centimetres\"\n",
        "    Response6, Response7, Response8 = \"height and breath\", \"length of two sides and the angle between them\", \\\n",
        "                                      \"Length of the three sides\"\n",
        "    if A == Response1:\n",
        "        T = input(\"Which parameters (Height and Breath or Length of two sides and the Angle between them \"\n",
        "                  \"or Length of the three sides) are given: \").lower()\n",
        "        if T == Response6:\n",
        "            B = float(input(\"Height (in cm): \"))\n",
        "            C = float(input(\"Breath (in cm): \"))\n",
        "            area_of_triangle = 1 / 2 * B * C\n",
        "            y1 = round(area_of_triangle, 1)  # the round() funtion was used to approximate the area to 1 decimal place\n",
        "            print(str(y1) + Unit)\n",
        "        elif T == Response7:\n",
        "            a1 = float(input(\"Length of one side (in cm): \"))\n",
        "            a2 = float(input(\"Length of other side (in cm): \"))\n",
        "            a3 = float(input(\"Angle: \"))\n",
        "            t1 = math.pi * a3 / 180  # ie, converting angle from rad. to degree\n",
        "            area_of_triangle = 1 / 2 * a1 * a2 * math.sin(t1)\n",
        "            y1 = round(area_of_triangle, 1)\n",
        "            print(str(y1) + Unit)\n",
        "        else:\n",
        "            a4 = float(input(\"Length of first side (in cm): \"))\n",
        "            a5 = float(input(\"Length of second side (in cm): \"))\n",
        "            a6 = float(input(\"Length of third side (in cm): \"))\n",
        "            p = (a4 + a5 + a6) / 2\n",
        "            k = (p - a4) * (p - a5) * (p - a6) * p\n",
        "            area_of_triangle = math.sqrt(k)\n",
        "            y1 = round(area_of_triangle, 1)\n",
        "            print(str(y1) + Unit)\n",
        "    elif A == Response2:\n",
        "        D = float(input(\"Length (in cm): \"))\n",
        "        E = float(input(\"Breath (in cm): \"))\n",
        "        area_of_square = D * E\n",
        "        y1 = round(area_of_square, 1)\n",
        "        print(str(y1) + Unit)\n",
        "    elif A == Response5:\n",
        "        D = float(input(\"Length (in cm): \"))\n",
        "        E = float(input(\"Breath (in cm): \"))\n",
        "        area_of_rectangle = D * E\n",
        "        y1 = round(area_of_rectangle, 1)\n",
        "        print(str(y1) + Unit)\n",
        "    elif A == Response3:\n",
        "        F = float(input(\"Radius (in cm): \"))\n",
        "        area_of_circle = 22 / 7 * F\n",
        "        y1 = round(area_of_circle, 1)\n",
        "        print(str(y1) + Unit)\n",
        "    else:\n",
        "        print(Response4)\n",
        "\n",
        "# The string function, str() was used to convert each of the areas from number data type to strings before printing.\n",
        "# This is because Python can't print numbers and strings joined by + operator.\n",
        "\n",
        "\n",
        "area_function()"
      ]
    }
  ]
}